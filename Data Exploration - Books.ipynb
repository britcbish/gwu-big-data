{
 "cells": [
  {
   "cell_type": "markdown",
   "metadata": {},
   "source": [
    "# Data Exploration - Books"
   ]
  },
  {
   "cell_type": "code",
   "execution_count": 1,
   "metadata": {},
   "outputs": [],
   "source": [
    "import findspark\n",
    "findspark.init()\n",
    "from pyspark import SparkContext\n",
    "sc = SparkContext()\n",
    "from pyspark.sql import SparkSession, SQLContext\n",
    "sqlContext = SQLContext(sc)\n",
    "spark = SparkSession.builder.appName(\"amazon-reviews-project\").getOrCreate()"
   ]
  },
  {
   "cell_type": "code",
   "execution_count": 2,
   "metadata": {},
   "outputs": [],
   "source": [
    "#for now, only reading reviews for items in the \"Kitchen\" category\n",
    "reviews = sqlContext.read.parquet(\"s3://amazon-reviews-pds/parquet/product_category=Books/\")"
   ]
  },
  {
   "cell_type": "markdown",
   "metadata": {},
   "source": [
    "***"
   ]
  },
  {
   "cell_type": "markdown",
   "metadata": {},
   "source": [
    "## Data Extraction\n",
    "Obtaining sentiment polarity from review string contents"
   ]
  },
  {
   "cell_type": "code",
   "execution_count": 3,
   "metadata": {},
   "outputs": [],
   "source": [
    "reviews = reviews.na.fill({'review_body': '', 'review_headline': ''})"
   ]
  },
  {
   "cell_type": "code",
   "execution_count": 4,
   "metadata": {},
   "outputs": [],
   "source": [
    "from pyspark.sql import Row\n",
    "from pyspark.sql.functions import udf\n",
    "from textblob import TextBlob\n",
    "\n",
    "polarity = udf(lambda x: TextBlob(x).sentiment.polarity)\n",
    "reviewLength = udf(lambda x: len(x))\n",
    "\n",
    "reviews = reviews.withColumn('headline_polarity', polarity('review_headline'))\\\n",
    "                 .withColumn('body_polarity', polarity('review_body'))\\\n",
    "                 .withColumn('headline_length', reviewLength('review_headline'))\\\n",
    "                 .withColumn('body_length', reviewLength('review_body'))"
   ]
  },
  {
   "cell_type": "markdown",
   "metadata": {},
   "source": [
    "Creating \"helpful?\" variable - a review is helpful if at least 75% of 'total_votes' have been 'helpful_votes'."
   ]
  },
  {
   "cell_type": "code",
   "execution_count": 5,
   "metadata": {},
   "outputs": [],
   "source": [
    "import pyspark.sql.functions as f\n",
    "reviews = reviews.withColumn(\"helpful-ratio\", reviews.helpful_votes/reviews.total_votes)"
   ]
  },
  {
   "cell_type": "code",
   "execution_count": 6,
   "metadata": {},
   "outputs": [],
   "source": [
    "reviews = reviews.withColumn(\"helpful?\", f.when(reviews[\"helpful-ratio\"] > 0.75, 1).otherwise(0))"
   ]
  },
  {
   "cell_type": "code",
   "execution_count": 7,
   "metadata": {},
   "outputs": [],
   "source": [
    "reviews = reviews.withColumn(\"verified_purchase\", f.when(reviews[\"verified_purchase\"] == \"Y\", 1).otherwise(reviews.verified_purchase))\n",
    "reviews = reviews.withColumn(\"verified_purchase\", f.when(reviews[\"verified_purchase\"] == \"N\", 0).otherwise(reviews.verified_purchase))\n",
    "reviews = reviews.withColumn(\"vine\", f.when(reviews[\"vine\"] == \"Y\", 1).otherwise(reviews.vine))\n",
    "reviews = reviews.withColumn(\"vine\", f.when(reviews[\"vine\"] == \"N\", 0).otherwise(reviews.vine))"
   ]
  },
  {
   "cell_type": "markdown",
   "metadata": {},
   "source": [
    "## Exploratory Data Analysis"
   ]
  },
  {
   "cell_type": "code",
   "execution_count": 8,
   "metadata": {},
   "outputs": [
    {
     "data": {
      "text/plain": [
       "20726160"
      ]
     },
     "execution_count": 8,
     "metadata": {},
     "output_type": "execute_result"
    }
   ],
   "source": [
    "reviews.count()"
   ]
  },
  {
   "cell_type": "code",
   "execution_count": 9,
   "metadata": {},
   "outputs": [
    {
     "name": "stdout",
     "output_type": "stream",
     "text": [
      "root\n",
      " |-- marketplace: string (nullable = true)\n",
      " |-- customer_id: string (nullable = true)\n",
      " |-- review_id: string (nullable = true)\n",
      " |-- product_id: string (nullable = true)\n",
      " |-- product_parent: string (nullable = true)\n",
      " |-- product_title: string (nullable = true)\n",
      " |-- star_rating: integer (nullable = true)\n",
      " |-- helpful_votes: integer (nullable = true)\n",
      " |-- total_votes: integer (nullable = true)\n",
      " |-- vine: string (nullable = true)\n",
      " |-- verified_purchase: string (nullable = true)\n",
      " |-- review_headline: string (nullable = false)\n",
      " |-- review_body: string (nullable = false)\n",
      " |-- review_date: date (nullable = true)\n",
      " |-- year: integer (nullable = true)\n",
      " |-- headline_polarity: string (nullable = true)\n",
      " |-- body_polarity: string (nullable = true)\n",
      " |-- headline_length: string (nullable = true)\n",
      " |-- body_length: string (nullable = true)\n",
      " |-- helpful-ratio: double (nullable = true)\n",
      " |-- helpful?: integer (nullable = false)\n",
      "\n"
     ]
    }
   ],
   "source": [
    "reviews.printSchema()"
   ]
  },
  {
   "cell_type": "code",
   "execution_count": 10,
   "metadata": {},
   "outputs": [
    {
     "data": {
      "text/plain": [
       "[Row(marketplace='US', customer_id='15444933', review_id='R1WWG70WK9VUCH', product_id='1848192576', product_parent='835940987', product_title='Standing Qigong for Health and Martial Arts - Zhan Zhuang', star_rating=5, helpful_votes=9, total_votes=10, vine='0', verified_purchase='1', review_headline='Informative AND interesting!', review_body=\"After attending a few Qigong classes, I wanted to have a book to read and re-read the instructions so I could practice at home.  I also wanted to gain more of an understanding of the purpose and benefit of the movements in order to practice them with a more focused purpose.<br /><br />The book exceeded my expectations.  The explanations are very clear and are paired with photos showing the correct form.  The book itself is more than just the Qigong, it's a very interesting read.  I read the whole book in two days and will read it again. I rarely read books twice!  The book has provided the information and additional instruction that I was looking for. I even use the breathing exercise to de-stress in traffic and fall asleep at night.  It really works!  I bought the book for my sister also and she's started practicing Standing Qigong and loves it.\", review_date=datetime.date(2015, 5, 2), year=2015, headline_polarity='0.625', body_polarity='0.32277777777777783', headline_length='28', body_length='858', helpful-ratio=0.9, helpful?=1),\n",
       " Row(marketplace='US', customer_id='20595117', review_id='R1EQ3POS0RIOD5', product_id='145162445X', product_parent='574044348', product_title='A Universe from Nothing: Why There Is Something Rather than Nothing', star_rating=4, helpful_votes=4, total_votes=7, vine='0', verified_purchase='0', review_headline=\"Between 'Nothing' and 'Nothing' somehow we are 'Something'  'Yes' to the Science ,'No' to the anti- Theology\", review_body=\"Krauss traces the remarkable transformation in cosmological understanding which has come with the Einstein- Hubble era. He explains how the great question of twentieth- century Physics i.e. Whether the Universe is contracting or flat or expanding has been decisively answered in favor of Expansion. He provides a dramatic picture of our own present time in the Universe as a very special one in which we are capable of observing one- hundred billion galaxies. He says that we will come to a time when all galaxies  will expand away from us but our own and we will be left with the ability to observe only our own Galaxy. He gives the scenarios for the ultimate outcome in disintegration of our Galaxy. He also provides a picture of the Universe in which the very stuff we are made of, the atomic matter is a small portion of the total stuff of the universe. The Dark Energy and Dark Matter which Krauss has himself worked to detect are the factor leading to the Universe's expansion. All of this Krauss wants to argue makes us not only insignificant to the universe as a whole but even more insignificant than was previously thought.<br />Our long- term future then as he understands it is 'miserable' oblivion, back to 'Nothingness'.<br />As Krauss understands it then there is no long- term hope for Humanity and certainly no long term hope for any kind of salvation from a personal God. Krauss even wants to as it were 'prove' that our Universe came not by Divine Creation but from Nothing, a Nothing which he calls the 'Laws of Physics'. All this is discouraging to someone like myself who does believe and pray to a personal God. And who believes that there is more in Heaven and Earth ( And in the human future) than Lawrence Krauss understands.\", review_date=datetime.date(2012, 6, 29), year=2012, headline_polarity='0.0', body_polarity='0.11775793650793658', headline_length='108', body_length='1751', helpful-ratio=0.5714285714285714, helpful?=0),\n",
       " Row(marketplace='US', customer_id='52925878', review_id='R10SRJA4VVGUBD', product_id='055341805X', product_parent='846590203', product_title='Hyacinth Girls: A Novel', star_rating=4, helpful_votes=0, total_votes=0, vine='1', verified_purchase='0', review_headline='Mysteries upon mysteries', review_body=\"Rebecca, a dental hygienist, receives a call at work and must rush to school, where she learns that thirteen-year-old Cassie has been accused of bullying, of throwing ink on another girl. Rebecca, who is Cassie's guardian (since both of Cassie's parents are dead), cannot bring herself to believe that Cassie would do such a thing. One witness, however, claims that the supposed victim actually covered herself with paint, perhaps in an act intended to get Cassie in trouble. Another witness claims Cassie did indeed commit the act. But soon, a bunch of girls emerges claiming that Cassie is innocent. Rebecca goes with this story. What exactly happened is the first mystery.<br /><br />&#34;Hyacinth Girls&#34; is told in a far-from-linear style, and we soon begin to see pieces of Rebecca's childhood, her fast friendships, and the escapades that girls, who see themselves on a mission to save others and fancy themselves as possessing a psychic bond, get into. For example, when another girl turns up missing, Rebecca and her cohorts convince themselves that a local man is holding the missing girl hostage in his basement, and they concoct a plan to investigate. The full nature of Rebecca's childhood is the second mystery.<br /><br />The first mystery deepens when threatening letters begin to arrive, and the emotional level increases dramatically.<br /><br />While reading &#34;Hyacinth Girls,&#34; I was reminded of the film &#34;Heavenly Creatures&#34; and of novels like Stephen Dobyns's &#34;Church of the Dead Girls.&#34; The former came to mind because of the Hyacinth Girls' almost obsessive relationship with each other, and the latter came to mind because of the style of the book, the slow revealing of the truth that comes through an obviously biased narrator (well, two since both Rebecca and Cassie tell about half of the story). Since I enjoyed both &#34;Heavenly Creatures&#34; and &#34;Church of the Dead Girls,&#34; those associations speak well for &#34;Hyacinth Girls.&#34;\", review_date=datetime.date(2015, 5, 2), year=2015, headline_polarity='0.0', body_polarity='0.017333333333333326', headline_length='24', body_length='2000', helpful-ratio=None, helpful?=0),\n",
       " Row(marketplace='US', customer_id='40062567', review_id='RD3268X41GM7U', product_id='0425263908', product_parent='119148606', product_title='Bared to You', star_rating=5, helpful_votes=1, total_votes=1, vine='0', verified_purchase='0', review_headline='\"RAW, STEAMY, HYPNOTIC!\"', review_body='\\\\\\\\\"BARED TO YOU\\\\\\\\\" is a sizzling, red-hot passionate romance you cannot forget, made for the Big Screen! Sylvia Day is a talented author who aims to please and a Winner in this sensual story as she delivers scorching love scenes in this incredible Crossfire Novel. Eva and Gideon come to life as the author describes their Obsession to each other. Eva\\'s addiction is Gideon, a clever man, candy-coated on the outside, and damaged on the inside. Eva knows what she wants and how to capture his heart. A Masterpiece that\\'s beautifully written and Highly Recommended!', review_date=datetime.date(2012, 6, 29), year=2012, headline_polarity='-0.2884615384615385', body_polarity='0.3037878787878788', headline_length='24', body_length='564', helpful-ratio=1.0, helpful?=1),\n",
       " Row(marketplace='US', customer_id='47221489', review_id='R3KGQL5X5BSJE1', product_id='1416556141', product_parent='987400385', product_title='Healer: A Novel', star_rating=5, helpful_votes=0, total_votes=0, vine='0', verified_purchase='1', review_headline='Well written story', review_body='Good characters and plot line. I spent a pleasureable time reading this book.  I enjoyed the writing as well as the growth of the characters and the solution to their circumstances.  This was a realistic view of a conundrum that could be found easily today.', review_date=datetime.date(2015, 5, 2), year=2015, headline_polarity='0.0', body_polarity='0.34', headline_length='18', body_length='257', helpful-ratio=None, helpful?=0)]"
      ]
     },
     "execution_count": 10,
     "metadata": {},
     "output_type": "execute_result"
    }
   ],
   "source": [
    "reviews.head(5)"
   ]
  },
  {
   "cell_type": "markdown",
   "metadata": {},
   "source": [
    "### Summary statistics for numerical columns"
   ]
  },
  {
   "cell_type": "code",
   "execution_count": 11,
   "metadata": {},
   "outputs": [
    {
     "name": "stdout",
     "output_type": "stream",
     "text": [
      "+-------+------------------+-----------------+------------------+-------------------+-------------------+\n",
      "|summary|       star_rating|    helpful_votes|       total_votes|      helpful-ratio|           helpful?|\n",
      "+-------+------------------+-----------------+------------------+-------------------+-------------------+\n",
      "|  count|          20726160|         20726160|          20726160|           13125056|           20726160|\n",
      "|   mean| 4.340540167594962|3.836474725660711| 5.332146620502785| 0.7072656836756213| 0.3642755339146277|\n",
      "| stddev|1.1256043311867316|22.40866963313652|25.810179471168826|0.35802059020169846|0.48122643368699736|\n",
      "|    min|                 1|                0|                 0|                0.0|                  0|\n",
      "|    max|                 5|            27550|             28727|                1.0|                  1|\n",
      "+-------+------------------+-----------------+------------------+-------------------+-------------------+\n",
      "\n"
     ]
    }
   ],
   "source": [
    "reviews.describe(\"star_rating\", \"helpful_votes\", \"total_votes\", \"helpful-ratio\", \"helpful?\").show()"
   ]
  },
  {
   "cell_type": "markdown",
   "metadata": {},
   "source": [
    "### Summary statistics for categorical columns"
   ]
  },
  {
   "cell_type": "code",
   "execution_count": 12,
   "metadata": {},
   "outputs": [
    {
     "name": "stdout",
     "output_type": "stream",
     "text": [
      "+-----------+--------+\n",
      "|marketplace|   count|\n",
      "+-----------+--------+\n",
      "|         DE|   63860|\n",
      "|         US|20370130|\n",
      "|         FR|   21462|\n",
      "|         UK|  258057|\n",
      "|         JP|   12651|\n",
      "+-----------+--------+\n",
      "\n"
     ]
    }
   ],
   "source": [
    "reviews.groupBy(\"marketplace\").count().show()"
   ]
  },
  {
   "cell_type": "markdown",
   "metadata": {},
   "source": [
    "https://www.amazon.com/gp/vine/help for more info on what `vine` column means"
   ]
  },
  {
   "cell_type": "code",
   "execution_count": 13,
   "metadata": {},
   "outputs": [
    {
     "name": "stdout",
     "output_type": "stream",
     "text": [
      "+----+--------+\n",
      "|vine|   count|\n",
      "+----+--------+\n",
      "|   0|20445054|\n",
      "|   1|  281106|\n",
      "+----+--------+\n",
      "\n"
     ]
    }
   ],
   "source": [
    "reviews.groupBy(\"vine\").count().show()"
   ]
  },
  {
   "cell_type": "code",
   "execution_count": 14,
   "metadata": {},
   "outputs": [
    {
     "name": "stdout",
     "output_type": "stream",
     "text": [
      "+-----------------+--------+\n",
      "|verified_purchase|   count|\n",
      "+-----------------+--------+\n",
      "|                0|10136108|\n",
      "|                1|10590052|\n",
      "+-----------------+--------+\n",
      "\n"
     ]
    }
   ],
   "source": [
    "reviews.groupBy(\"verified_purchase\").count().show()"
   ]
  },
  {
   "cell_type": "code",
   "execution_count": 15,
   "metadata": {},
   "outputs": [
    {
     "name": "stdout",
     "output_type": "stream",
     "text": [
      "+----+-------+\n",
      "|year|  count|\n",
      "+----+-------+\n",
      "|1995|    211|\n",
      "|1996|   5024|\n",
      "|1997|  39582|\n",
      "|1998| 129068|\n",
      "|1999| 262997|\n",
      "|2000| 571135|\n",
      "|2001| 461224|\n",
      "|2002| 444260|\n",
      "|2003| 459694|\n",
      "|2004| 461265|\n",
      "|2005| 539531|\n",
      "|2006| 587516|\n",
      "|2007| 788724|\n",
      "|2008| 859497|\n",
      "|2009|1050246|\n",
      "|2010|1161966|\n",
      "|2011|1357646|\n",
      "|2012|1736442|\n",
      "|2013|3106099|\n",
      "|2014|3710219|\n",
      "+----+-------+\n",
      "only showing top 20 rows\n",
      "\n"
     ]
    }
   ],
   "source": [
    "reviews.groupBy(\"year\").count().sort(\"year\").show()"
   ]
  },
  {
   "cell_type": "code",
   "execution_count": 16,
   "metadata": {},
   "outputs": [
    {
     "name": "stdout",
     "output_type": "stream",
     "text": [
      "+--------+--------+\n",
      "|helpful?|   count|\n",
      "+--------+--------+\n",
      "|       1| 7550033|\n",
      "|       0|13176127|\n",
      "+--------+--------+\n",
      "\n"
     ]
    }
   ],
   "source": [
    "reviews.groupBy(\"helpful?\").count().show()"
   ]
  },
  {
   "cell_type": "code",
   "execution_count": 17,
   "metadata": {},
   "outputs": [],
   "source": [
    "spark.stop()"
   ]
  }
 ],
 "metadata": {
  "kernelspec": {
   "display_name": "Python 3",
   "language": "python",
   "name": "python3"
  },
  "language_info": {
   "codemirror_mode": {
    "name": "ipython",
    "version": 3
   },
   "file_extension": ".py",
   "mimetype": "text/x-python",
   "name": "python",
   "nbconvert_exporter": "python",
   "pygments_lexer": "ipython3",
   "version": "3.6.8"
  }
 },
 "nbformat": 4,
 "nbformat_minor": 4
}
