{
 "cells": [
  {
   "cell_type": "markdown",
   "metadata": {},
   "source": [
    "# Data Exploration - Electronics"
   ]
  },
  {
   "cell_type": "code",
   "execution_count": 1,
   "metadata": {},
   "outputs": [],
   "source": [
    "import findspark\n",
    "findspark.init()\n",
    "from pyspark import SparkContext\n",
    "sc = SparkContext()\n",
    "from pyspark.sql import SparkSession, SQLContext\n",
    "sqlContext = SQLContext(sc)\n",
    "spark = SparkSession.builder.appName(\"amazon-reviews-project\").getOrCreate()"
   ]
  },
  {
   "cell_type": "code",
   "execution_count": 2,
   "metadata": {},
   "outputs": [],
   "source": [
    "#for now, only reading reviews for items in the \"Kitchen\" category\n",
    "reviews = sqlContext.read.parquet(\"s3://amazon-reviews-pds/parquet/product_category=Electronics/\")"
   ]
  },
  {
   "cell_type": "markdown",
   "metadata": {},
   "source": [
    "***"
   ]
  },
  {
   "cell_type": "markdown",
   "metadata": {},
   "source": [
    "## Data Extraction\n",
    "Obtaining sentiment polarity from review string contents"
   ]
  },
  {
   "cell_type": "code",
   "execution_count": 3,
   "metadata": {},
   "outputs": [],
   "source": [
    "reviews = reviews.na.fill({'review_body': '', 'review_headline': ''})"
   ]
  },
  {
   "cell_type": "code",
   "execution_count": 4,
   "metadata": {},
   "outputs": [],
   "source": [
    "from pyspark.sql import Row\n",
    "from pyspark.sql.functions import udf\n",
    "from textblob import TextBlob\n",
    "\n",
    "polarity = udf(lambda x: TextBlob(x).sentiment.polarity)\n",
    "reviewLength = udf(lambda x: len(x))\n",
    "\n",
    "reviews = reviews.withColumn('headline_polarity', polarity('review_headline'))\\\n",
    "                 .withColumn('body_polarity', polarity('review_body'))\\\n",
    "                 .withColumn('headline_length', reviewLength('review_headline'))\\\n",
    "                 .withColumn('body_length', reviewLength('review_body'))"
   ]
  },
  {
   "cell_type": "markdown",
   "metadata": {},
   "source": [
    "Creating \"helpful?\" variable - a review is helpful if at least 75% of 'total_votes' have been 'helpful_votes'."
   ]
  },
  {
   "cell_type": "code",
   "execution_count": 5,
   "metadata": {},
   "outputs": [],
   "source": [
    "import pyspark.sql.functions as f\n",
    "reviews = reviews.withColumn(\"helpful-ratio\", reviews.helpful_votes/reviews.total_votes)"
   ]
  },
  {
   "cell_type": "code",
   "execution_count": 6,
   "metadata": {},
   "outputs": [],
   "source": [
    "reviews = reviews.withColumn(\"helpful?\", f.when(reviews[\"helpful-ratio\"] > 0.75, 1).otherwise(0))"
   ]
  },
  {
   "cell_type": "code",
   "execution_count": 7,
   "metadata": {},
   "outputs": [],
   "source": [
    "reviews = reviews.withColumn(\"verified_purchase\", f.when(reviews[\"verified_purchase\"] == \"Y\", 1).otherwise(reviews.verified_purchase))\n",
    "reviews = reviews.withColumn(\"verified_purchase\", f.when(reviews[\"verified_purchase\"] == \"N\", 0).otherwise(reviews.verified_purchase))\n",
    "reviews = reviews.withColumn(\"vine\", f.when(reviews[\"vine\"] == \"Y\", 1).otherwise(reviews.vine))\n",
    "reviews = reviews.withColumn(\"vine\", f.when(reviews[\"vine\"] == \"N\", 0).otherwise(reviews.vine))"
   ]
  },
  {
   "cell_type": "markdown",
   "metadata": {},
   "source": [
    "## Exploratory Data Analysis"
   ]
  },
  {
   "cell_type": "code",
   "execution_count": 8,
   "metadata": {},
   "outputs": [
    {
     "data": {
      "text/plain": [
       "3120938"
      ]
     },
     "execution_count": 8,
     "metadata": {},
     "output_type": "execute_result"
    }
   ],
   "source": [
    "reviews.count()"
   ]
  },
  {
   "cell_type": "code",
   "execution_count": 9,
   "metadata": {},
   "outputs": [
    {
     "name": "stdout",
     "output_type": "stream",
     "text": [
      "root\n",
      " |-- marketplace: string (nullable = true)\n",
      " |-- customer_id: string (nullable = true)\n",
      " |-- review_id: string (nullable = true)\n",
      " |-- product_id: string (nullable = true)\n",
      " |-- product_parent: string (nullable = true)\n",
      " |-- product_title: string (nullable = true)\n",
      " |-- star_rating: integer (nullable = true)\n",
      " |-- helpful_votes: integer (nullable = true)\n",
      " |-- total_votes: integer (nullable = true)\n",
      " |-- vine: string (nullable = true)\n",
      " |-- verified_purchase: string (nullable = true)\n",
      " |-- review_headline: string (nullable = false)\n",
      " |-- review_body: string (nullable = false)\n",
      " |-- review_date: date (nullable = true)\n",
      " |-- year: integer (nullable = true)\n",
      " |-- headline_polarity: string (nullable = true)\n",
      " |-- body_polarity: string (nullable = true)\n",
      " |-- headline_length: string (nullable = true)\n",
      " |-- body_length: string (nullable = true)\n",
      " |-- helpful-ratio: double (nullable = true)\n",
      " |-- helpful?: integer (nullable = false)\n",
      "\n"
     ]
    }
   ],
   "source": [
    "reviews.printSchema()"
   ]
  },
  {
   "cell_type": "code",
   "execution_count": 10,
   "metadata": {},
   "outputs": [
    {
     "data": {
      "text/plain": [
       "[Row(marketplace='US', customer_id='52826068', review_id='R3SC2T77Y0PSN8', product_id='B00FIYDC1W', product_parent='822091995', product_title='Monster DNA Over-Ear Headphones', star_rating=4, helpful_votes=0, total_votes=0, vine='1', verified_purchase='0', review_headline='Very nice sound, comfortable', review_body='These headphones are very nice.  Sound is quite good and well balanced.  I tend to balk at these only because they often seem kind of clunky and heavy.  These are really very comfortable.  Great for watching a movie or concert on a tablet laptop without bothering anybody.  Could have a nicer storage bag for price, but otherwise very good.', review_date=datetime.date(2014, 4, 9), year=2014, headline_polarity='0.5266666666666667', body_polarity='0.5011111111111111', headline_length='28', body_length='340', helpful-ratio=None, helpful?=0),\n",
       " Row(marketplace='US', customer_id='13676500', review_id='R2ONIZ7ICKORQV', product_id='B00E19H9U0', product_parent='662432872', product_title='Tech Armor 30ML Go Cleaning Kit with ExtraMove Formula and Cleansing Wipes', star_rating=5, helpful_votes=0, total_votes=0, vine='0', verified_purchase='1', review_headline='Five Stars', review_body='Arrived as expected great product', review_date=datetime.date(2014, 11, 17), year=2014, headline_polarity='0.0', body_polarity='0.35000000000000003', headline_length='10', body_length='33', helpful-ratio=None, helpful?=0),\n",
       " Row(marketplace='US', customer_id='9133162', review_id='R3RN22LN1VUJR6', product_id='B00ELCP55I', product_parent='576075415', product_title='Mpow&reg; FreeGo Wireless Bluetooth 4.0 Headset Headphone with Noise reduction and Echo cancellation for iPhone 5S 5C 5 4S, Galaxy Note 3 2 S4 S3 and other Cellphones', star_rating=4, helpful_votes=3, total_votes=4, vine='0', verified_purchase='1', review_headline='really enjoyed this product', review_body='the reason I chose this product because of  design.  It paired well with my GS 4 especially with my music library. I woulda gave it 5 stars only because of the  ear bugs', review_date=datetime.date(2014, 4, 9), year=2014, headline_polarity='0.5', body_polarity='0.0', headline_length='27', body_length='169', helpful-ratio=0.75, helpful?=0),\n",
       " Row(marketplace='US', customer_id='15154971', review_id='R36LBJWIVBO9M8', product_id='B00A6Q596I', product_parent='533568175', product_title='1080P 30 Pin Dock Male to HDMI Male Adapter Cable For iPhone Ipad Itouch- White', star_rating=4, helpful_votes=0, total_votes=0, vine='0', verified_purchase='0', review_headline='Works on Ipad 2?', review_body='Works  on Ipad 2?', review_date=datetime.date(2014, 11, 17), year=2014, headline_polarity='0.0', body_polarity='0.0', headline_length='16', body_length='17', helpful-ratio=None, helpful?=0),\n",
       " Row(marketplace='US', customer_id='12151874', review_id='RW983892SG9VP', product_id='B000HKGK8Y', product_parent='544321119', product_title='RCA ANT111Z Durable FM Antenna, Rabbit Ears', star_rating=5, helpful_votes=0, total_votes=0, vine='0', verified_purchase='1', review_headline='Works great!', review_body='I am very happy with this antenna. Works like it should was very inexpensive.  I definitely recommend this product!  Great', review_date=datetime.date(2014, 4, 9), year=2014, headline_polarity='1.0', body_polarity='0.5', headline_length='12', body_length='122', helpful-ratio=None, helpful?=0)]"
      ]
     },
     "execution_count": 10,
     "metadata": {},
     "output_type": "execute_result"
    }
   ],
   "source": [
    "reviews.head(5)"
   ]
  },
  {
   "cell_type": "markdown",
   "metadata": {},
   "source": [
    "### Summary statistics for numerical columns"
   ]
  },
  {
   "cell_type": "code",
   "execution_count": 11,
   "metadata": {},
   "outputs": [
    {
     "name": "stdout",
     "output_type": "stream",
     "text": [
      "+-------+------------------+------------------+------------------+------------------+-------------------+\n",
      "|summary|       star_rating|     helpful_votes|       total_votes|     helpful-ratio|           helpful?|\n",
      "+-------+------------------+------------------+------------------+------------------+-------------------+\n",
      "|  count|           3120938|           3120938|           3120938|           1227998|            3120938|\n",
      "|   mean| 4.036143941340712| 1.865194053838942|2.3798239503636407|0.7019299774032345|0.23333529855447305|\n",
      "| stddev|1.3866749254267947|21.296396932421274|22.457112140982726|0.3834108561625481|0.42295389148496004|\n",
      "|    min|                 1|                 0|                 0|               0.0|                  0|\n",
      "|    max|                 5|             12786|             12944|               1.0|                  1|\n",
      "+-------+------------------+------------------+------------------+------------------+-------------------+\n",
      "\n"
     ]
    }
   ],
   "source": [
    "reviews.describe(\"star_rating\", \"helpful_votes\", \"total_votes\", \"helpful-ratio\", \"helpful?\").show()"
   ]
  },
  {
   "cell_type": "markdown",
   "metadata": {},
   "source": [
    "### Summary statistics for categorical columns"
   ]
  },
  {
   "cell_type": "code",
   "execution_count": 12,
   "metadata": {},
   "outputs": [
    {
     "name": "stdout",
     "output_type": "stream",
     "text": [
      "+-----------+-------+\n",
      "|marketplace|  count|\n",
      "+-----------+-------+\n",
      "|         DE|   4035|\n",
      "|         US|3105328|\n",
      "|         FR|   2363|\n",
      "|         UK|   5851|\n",
      "|         JP|   3361|\n",
      "+-----------+-------+\n",
      "\n"
     ]
    }
   ],
   "source": [
    "reviews.groupBy(\"marketplace\").count().show()"
   ]
  },
  {
   "cell_type": "markdown",
   "metadata": {},
   "source": [
    "https://www.amazon.com/gp/vine/help for more info on what `vine` column means"
   ]
  },
  {
   "cell_type": "code",
   "execution_count": 13,
   "metadata": {},
   "outputs": [
    {
     "name": "stdout",
     "output_type": "stream",
     "text": [
      "+----+-------+\n",
      "|vine|  count|\n",
      "+----+-------+\n",
      "|   0|3101985|\n",
      "|   1|  18953|\n",
      "+----+-------+\n",
      "\n"
     ]
    }
   ],
   "source": [
    "reviews.groupBy(\"vine\").count().show()"
   ]
  },
  {
   "cell_type": "code",
   "execution_count": 14,
   "metadata": {},
   "outputs": [
    {
     "name": "stdout",
     "output_type": "stream",
     "text": [
      "+-----------------+-------+\n",
      "|verified_purchase|  count|\n",
      "+-----------------+-------+\n",
      "|                0| 498022|\n",
      "|                1|2622916|\n",
      "+-----------------+-------+\n",
      "\n"
     ]
    }
   ],
   "source": [
    "reviews.groupBy(\"verified_purchase\").count().show()"
   ]
  },
  {
   "cell_type": "code",
   "execution_count": 15,
   "metadata": {},
   "outputs": [
    {
     "name": "stdout",
     "output_type": "stream",
     "text": [
      "+----+------+\n",
      "|year| count|\n",
      "+----+------+\n",
      "|1999|   701|\n",
      "|2000|  4443|\n",
      "|2001|  5483|\n",
      "|2002|  7180|\n",
      "|2003|  9833|\n",
      "|2004| 12604|\n",
      "|2005| 20113|\n",
      "|2006| 29620|\n",
      "|2007| 61456|\n",
      "|2008| 71382|\n",
      "|2009| 91589|\n",
      "|2010|125012|\n",
      "|2011|189586|\n",
      "|2012|272328|\n",
      "|2013|563203|\n",
      "|2014|840331|\n",
      "|2015|816074|\n",
      "+----+------+\n",
      "\n"
     ]
    }
   ],
   "source": [
    "reviews.groupBy(\"year\").count().sort(\"year\").show()"
   ]
  },
  {
   "cell_type": "code",
   "execution_count": 16,
   "metadata": {},
   "outputs": [],
   "source": [
    "spark.stop()"
   ]
  }
 ],
 "metadata": {
  "kernelspec": {
   "display_name": "Python 3",
   "language": "python",
   "name": "python3"
  },
  "language_info": {
   "codemirror_mode": {
    "name": "ipython",
    "version": 3
   },
   "file_extension": ".py",
   "mimetype": "text/x-python",
   "name": "python",
   "nbconvert_exporter": "python",
   "pygments_lexer": "ipython3",
   "version": "3.6.8"
  }
 },
 "nbformat": 4,
 "nbformat_minor": 4
}
