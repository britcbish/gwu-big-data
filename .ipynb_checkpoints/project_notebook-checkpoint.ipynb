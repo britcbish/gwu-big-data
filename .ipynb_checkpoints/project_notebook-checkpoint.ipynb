{
 "cells": [
  {
   "cell_type": "code",
   "execution_count": 13,
   "metadata": {},
   "outputs": [],
   "source": [
    "import findspark\n",
    "findspark.init()\n",
    "from pyspark import SparkContext\n",
    "sc = SparkContext()\n",
    "from pyspark.sql import SparkSession, SQLContext\n",
    "sqlContext = SQLContext(sc)\n",
    "spark = SparkSession.builder.appName(\"amazon-reviews-project\").getOrCreate()"
   ]
  },
  {
   "cell_type": "code",
   "execution_count": 14,
   "metadata": {},
   "outputs": [],
   "source": [
    "#for now, only reading reviews for items in the \"Kitchen\" category\n",
    "reviews = sqlContext.read.parquet(\"s3://amazon-reviews-pds/parquet/product_category=Kitchen/\")"
   ]
  },
  {
   "cell_type": "markdown",
   "metadata": {},
   "source": [
    "***"
   ]
  },
  {
   "cell_type": "markdown",
   "metadata": {},
   "source": [
    "## Data Extraction\n",
    "Obtaining sentiment polarity from review string contents"
   ]
  },
  {
   "cell_type": "code",
   "execution_count": 97,
   "metadata": {},
   "outputs": [],
   "source": [
    "reviews = reviews.na.fill({'review_body': '', 'review_headline': ''})"
   ]
  },
  {
   "cell_type": "code",
   "execution_count": 112,
   "metadata": {},
   "outputs": [],
   "source": [
    "from pyspark.sql import Row\n",
    "from pyspark.sql.functions import udf\n",
    "from textblob import TextBlob\n",
    "\n",
    "polarity = udf(lambda x: TextBlob(x).sentiment.polarity)\n",
    "\n",
    "reviews = reviews.withColumn('headline_polarity', polarity('review_headline'))\\\n",
    "                 .withColumn('body_polarity', polarity('review_body'))"
   ]
  },
  {
   "cell_type": "markdown",
   "metadata": {},
   "source": [
    "## Exploratory Data Analysis"
   ]
  },
  {
   "cell_type": "code",
   "execution_count": 114,
   "metadata": {},
   "outputs": [
    {
     "data": {
      "text/plain": [
       "4882831"
      ]
     },
     "execution_count": 114,
     "metadata": {},
     "output_type": "execute_result"
    }
   ],
   "source": [
    "reviews.count()"
   ]
  },
  {
   "cell_type": "code",
   "execution_count": 115,
   "metadata": {},
   "outputs": [
    {
     "name": "stdout",
     "output_type": "stream",
     "text": [
      "root\n",
      " |-- marketplace: string (nullable = true)\n",
      " |-- customer_id: string (nullable = true)\n",
      " |-- review_id: string (nullable = true)\n",
      " |-- product_id: string (nullable = true)\n",
      " |-- product_parent: string (nullable = true)\n",
      " |-- product_title: string (nullable = true)\n",
      " |-- star_rating: integer (nullable = true)\n",
      " |-- helpful_votes: integer (nullable = true)\n",
      " |-- total_votes: integer (nullable = true)\n",
      " |-- vine: string (nullable = true)\n",
      " |-- verified_purchase: string (nullable = true)\n",
      " |-- review_headline: string (nullable = false)\n",
      " |-- review_body: string (nullable = false)\n",
      " |-- review_date: date (nullable = true)\n",
      " |-- year: integer (nullable = true)\n",
      " |-- headline_polarity: string (nullable = true)\n",
      " |-- body_polarity: string (nullable = true)\n",
      "\n"
     ]
    }
   ],
   "source": [
    "reviews.printSchema()"
   ]
  },
  {
   "cell_type": "code",
   "execution_count": 116,
   "metadata": {},
   "outputs": [
    {
     "data": {
      "text/plain": [
       "[Row(marketplace='US', customer_id='17050420', review_id='R3QP7FJW6GAB3M', product_id='B007T0CIVS', product_parent='224029078', product_title='Preethi Eco Twin Jar Mixer Grinder, 550-Watt', star_rating=5, helpful_votes=3, total_votes=4, vine='N', verified_purchase='Y', review_headline='Finally something I can use', review_body=\"I always believed that the American blenders went toe to toe with the Indian ones, at least the affordable ones. I was getting tired of the blenders that only seemed to work when water was added or spice mixers that just tossed stuff around without actually grinding anything.<br /><br />Finally here's something that is pretty basic by Indian standards but so very effective. It comes with 2 jar and 4 lids. there are 2 lids for each jar. One adds a lot of room and the other one reduces it. I use the Large lid when I'm blending something like Dosa batter and the smaller lid for chutneys.<br /><br />There's also one extra blade (am not sure if this is for a special purpose or just an extra blade!).<br /><br />The motor is 550W which is not as powerful as the newer 750W Mixers out there but it does the job for half the cost. More value for money if you ask me.<br /><br />The package includes the usual warranty card and manual etc.<br /><br />Shipping was on time and it was well packaged since the mixie came in an extra box with stuffing.<br /><br />All in all a very good purchase for me. Hope it works out for you too.\", review_date=datetime.date(2012, 6, 29), year=2012, headline_polarity='0.0', body_polarity='0.08665532879818595'),\n",
       " Row(marketplace='US', customer_id='51374151', review_id='R2H0VTCQEWTU2L', product_id='B00T6TBJ5Q', product_parent='39113186', product_title='Eco-Carafe for Keurig 2.0, K300, K400, K500 Series', star_rating=4, helpful_votes=0, total_votes=0, vine='N', verified_purchase='Y', review_headline='Works as Expected', review_body='Works as expected', review_date=datetime.date(2015, 5, 3), year=2015, headline_polarity='-0.1', body_polarity='-0.1'),\n",
       " Row(marketplace='US', customer_id='25039641', review_id='RKCD7QEJPCNLD', product_id='B001E8TLKC', product_parent='789078430', product_title='Spectrum Scroll Wall Mount Spice Rack', star_rating=5, helpful_votes=1, total_votes=1, vine='N', verified_purchase='Y', review_headline='Great product', review_body=\"It's a well made product, I love it. I use it for nail polish. It holds about 55 for me. I am going to buy another one, for the price how could I not. It took less then 5 minutes to hang.\", review_date=datetime.date(2012, 6, 29), year=2012, headline_polarity='0.8', body_polarity='0.16666666666666669'),\n",
       " Row(marketplace='US', customer_id='35459217', review_id='R2KM7KJOOF8U5W', product_id='B005O15EHE', product_parent='519958179', product_title='6 Piece Bakeware/Cookware Set with Red Plastic Covers', star_rating=5, helpful_votes=0, total_votes=0, vine='N', verified_purchase='Y', review_headline='Top quality', review_body='Pyrex quality, what else can I say. Will order more for sure.', review_date=datetime.date(2015, 5, 3), year=2015, headline_polarity='0.5', body_polarity='0.5'),\n",
       " Row(marketplace='US', customer_id='32328671', review_id='RUAKC4VSSWOFT', product_id='B0036FH504', product_parent='816839911', product_title='Fox Run 4090 Wall Paper Towel Holder, Wood', star_rating=5, helpful_votes=0, total_votes=0, vine='N', verified_purchase='Y', review_headline='paper towel holder', review_body='very good towl holder will do business in future', review_date=datetime.date(2012, 6, 29), year=2012, headline_polarity='0.0', body_polarity='0.45499999999999996')]"
      ]
     },
     "execution_count": 116,
     "metadata": {},
     "output_type": "execute_result"
    }
   ],
   "source": [
    "reviews.head(5)"
   ]
  },
  {
   "cell_type": "markdown",
   "metadata": {},
   "source": [
    "### Summary statistics for numerical columns"
   ]
  },
  {
   "cell_type": "code",
   "execution_count": null,
   "metadata": {},
   "outputs": [],
   "source": [
    "reviews.select(\"star_rating\", \"helpful_votes\", \"total_votes\", \"year\", \"headline_polarity\", \"body_polarity\").describe().show()"
   ]
  },
  {
   "cell_type": "markdown",
   "metadata": {},
   "source": [
    "### Summary statistics for categorical columns"
   ]
  },
  {
   "cell_type": "code",
   "execution_count": 29,
   "metadata": {},
   "outputs": [
    {
     "name": "stdout",
     "output_type": "stream",
     "text": [
      "+-----------+-------+\n",
      "|marketplace|  count|\n",
      "+-----------+-------+\n",
      "|         DE|    120|\n",
      "|         US|4882309|\n",
      "|         FR|     67|\n",
      "|         UK|     21|\n",
      "|         JP|    314|\n",
      "+-----------+-------+\n",
      "\n"
     ]
    }
   ],
   "source": [
    "reviews.groupBy(\"marketplace\").count().show()"
   ]
  },
  {
   "cell_type": "markdown",
   "metadata": {},
   "source": [
    "https://www.amazon.com/gp/vine/help for more info on what `vine` column means"
   ]
  },
  {
   "cell_type": "code",
   "execution_count": 38,
   "metadata": {},
   "outputs": [
    {
     "name": "stdout",
     "output_type": "stream",
     "text": [
      "+----+-------+\n",
      "|vine|  count|\n",
      "+----+-------+\n",
      "|   Y|  24434|\n",
      "|   N|4858397|\n",
      "+----+-------+\n",
      "\n"
     ]
    }
   ],
   "source": [
    "reviews.groupBy(\"vine\").count().show()"
   ]
  },
  {
   "cell_type": "code",
   "execution_count": 39,
   "metadata": {},
   "outputs": [
    {
     "name": "stdout",
     "output_type": "stream",
     "text": [
      "+-----------------+-------+\n",
      "|verified_purchase|  count|\n",
      "+-----------------+-------+\n",
      "|                Y|4101350|\n",
      "|                N| 781481|\n",
      "+-----------------+-------+\n",
      "\n"
     ]
    }
   ],
   "source": [
    "reviews.groupBy(\"verified_purchase\").count().show()"
   ]
  }
 ],
 "metadata": {
  "kernelspec": {
   "display_name": "Python 3",
   "language": "python",
   "name": "python3"
  },
  "language_info": {
   "codemirror_mode": {
    "name": "ipython",
    "version": 3
   },
   "file_extension": ".py",
   "mimetype": "text/x-python",
   "name": "python",
   "nbconvert_exporter": "python",
   "pygments_lexer": "ipython3",
   "version": "3.6.8"
  }
 },
 "nbformat": 4,
 "nbformat_minor": 2
}
