{
 "cells": [
  {
   "cell_type": "markdown",
   "metadata": {},
   "source": [
    "# Create Merged Dataset\n",
    "\n",
    "In this workbook, you will read in the `trip` and `fare` files. You are welcome to use DataFrame and/or SparkSQL API as you desire as long as it produces the expected results.\n",
    "\n",
    "## Instructions:\n",
    "\n",
    "1. Join both datasets such that you get a merged dataset with 21 unique fields. You need to determine how to join the dataset.\n",
    "2. Once you create the merged dataset, you need to convert fields to the following types, since all fields were read is as string:\n",
    "    * pickup_datetime and dropoff_datetime must be TIMESTAMP\n",
    "    * passenger_count and rate_code must be INT\n",
    "    * all other numeric fields must be FLOAT\n",
    "    * the remaining fields stay as STRING\n",
    "3. Save your merged and converted dataset to your own S3 bucket in parquet format.\n",
    "\n",
    "You are welcome to add as many cells as you need below up until the next section. **You must include comments in your code.**"
   ]
  },
  {
   "cell_type": "code",
   "execution_count": 1,
   "metadata": {},
   "outputs": [
    {
     "data": {
      "text/html": [
       "\n",
       "            <div>\n",
       "                <p><b>SparkSession - in-memory</b></p>\n",
       "                \n",
       "        <div>\n",
       "            <p><b>SparkContext</b></p>\n",
       "\n",
       "            <p><a href=\"http://ip-172-31-61-69.ec2.internal:4040\">Spark UI</a></p>\n",
       "\n",
       "            <dl>\n",
       "              <dt>Version</dt>\n",
       "                <dd><code>v2.4.2</code></dd>\n",
       "              <dt>Master</dt>\n",
       "                <dd><code>yarn</code></dd>\n",
       "              <dt>AppName</dt>\n",
       "                <dd><code>assignment4-a1</code></dd>\n",
       "            </dl>\n",
       "        </div>\n",
       "        \n",
       "            </div>\n",
       "        "
      ],
      "text/plain": [
       "<pyspark.sql.session.SparkSession at 0x7f2f5034f588>"
      ]
     },
     "execution_count": 1,
     "metadata": {},
     "output_type": "execute_result"
    }
   ],
   "source": [
    "# importing and running spark\n",
    "import findspark\n",
    "findspark.init()\n",
    "from pyspark.sql import SparkSession\n",
    "spark = SparkSession.builder.appName(\"assignment4-a1\").getOrCreate()\n",
    "spark"
   ]
  },
  {
   "cell_type": "code",
   "execution_count": 2,
   "metadata": {},
   "outputs": [],
   "source": [
    "#reading in the Trips file\n",
    "dfTrip = spark.read\\\n",
    "  .format('parquet')\\\n",
    "  .option('header', 'true')\\\n",
    "  .option('inferSchema', 'true')\\\n",
    "  .load('s3://bigdatateaching/nyctaxi-2013/parquet/trip')"
   ]
  },
  {
   "cell_type": "code",
   "execution_count": 3,
   "metadata": {},
   "outputs": [],
   "source": [
    "# reading in the Fare file\n",
    "dfFare = spark.read\\\n",
    "  .format('parquet')\\\n",
    "  .option('header', 'true')\\\n",
    "  .option('inferSchema', 'true')\\\n",
    "  .load('s3://bigdatateaching/nyctaxi-2013/parquet/fare')"
   ]
  },
  {
   "cell_type": "code",
   "execution_count": 4,
   "metadata": {},
   "outputs": [
    {
     "name": "stdout",
     "output_type": "stream",
     "text": [
      "+--------------------+--------------------+---------+---------+------------------+-------------------+-------------------+---------------+-----------------+-------------+----------------+---------------+-----------------+----------------+\n",
      "|           medallion|        hack_license|vendor_id|rate_code|store_and_fwd_flag|    pickup_datetime|   dropoff_datetime|passenger_count|trip_time_in_secs|trip_distance|pickup_longitude|pickup_latitude|dropoff_longitude|dropoff_latitude|\n",
      "+--------------------+--------------------+---------+---------+------------------+-------------------+-------------------+---------------+-----------------+-------------+----------------+---------------+-----------------+----------------+\n",
      "|0F6CF8A85A039CDF3...|33BC9D03BE4E9B8E1...|      VTS|        1|              null|2013-04-20 20:22:00|2013-04-20 20:28:00|              1|              360|          .46|       -73.98571|      40.762817|       -73.978874|       40.762306|\n",
      "|75148F5ED6DECC2B4...|FC93BBB797CBAA633...|      VTS|        1|              null|2013-04-19 20:22:00|2013-04-19 20:29:00|              1|              420|          .98|      -73.976372|      40.752708|       -73.987167|       40.746979|\n",
      "|D0D9C0CD2B6E87AD6...|989738ED439E7B633...|      VTS|        1|              null|2013-04-20 19:55:00|2013-04-20 20:26:00|              1|             1860|        14.10|       -73.96035|      40.761929|       -73.767807|        40.76152|\n",
      "|7A786DEAECF59A090...|749D6B1C8942CC1A9...|      VTS|        1|              null|2013-04-20 20:16:00|2013-04-20 20:29:00|              1|              780|         3.27|       -73.97789|      40.745956|       -73.988716|       40.778271|\n",
      "|777710CE76CBB5AA3...|19BAC4238FB7745C2...|      VTS|        1|              null|2013-04-20 23:19:00|2013-04-20 23:30:00|              2|              660|         1.48|      -73.985832|      40.741581|       -73.993744|       40.727081|\n",
      "|ED75D2ABE6241A671...|6C2FF19A115CC5092...|      VTS|        1|              null|2013-04-20 23:25:00|2013-04-20 23:29:00|              5|              240|          .67|      -74.005371|      40.745434|       -73.996178|       40.744179|\n",
      "|4DC8AF4D7A35AA2B7...|260C1EC0C586F0CE5...|      VTS|        1|              null|2013-04-20 23:17:00|2013-04-20 23:27:00|              3|              600|         1.19|      -73.982735|      40.735321|       -73.982735|       40.735321|\n",
      "|C61EBE0BFDD0A348B...|7C36013218D83B665...|      VTS|        1|              null|2013-04-20 23:15:00|2013-04-20 23:27:00|              1|              720|         2.10|       -74.00634|      40.742268|       -74.002464|       40.718864|\n",
      "|FBE13E2D830FE83F9...|08C64489FF7555D72...|      VTS|        1|              null|2013-04-20 23:15:00|2013-04-20 23:28:00|              1|              780|         2.93|      -73.986282|      40.763962|        -73.95163|         40.7812|\n",
      "|038E76DC061A40AE0...|CA93DFED15A69BE2D...|      VTS|        1|              null|2013-04-20 23:14:00|2013-04-20 23:25:00|              2|              660|         2.47|      -74.001183|      40.736713|       -73.985489|       40.763195|\n",
      "+--------------------+--------------------+---------+---------+------------------+-------------------+-------------------+---------------+-----------------+-------------+----------------+---------------+-----------------+----------------+\n",
      "only showing top 10 rows\n",
      "\n"
     ]
    }
   ],
   "source": [
    "dfTrip.show(10) #looking at the first 10 rows to make sure the data is there"
   ]
  },
  {
   "cell_type": "code",
   "execution_count": 5,
   "metadata": {},
   "outputs": [
    {
     "name": "stdout",
     "output_type": "stream",
     "text": [
      "+--------------------+--------------------+---------+-------------------+------------+-----------+---------+-------+----------+------------+------------+\n",
      "|           medallion|        hack_license|vendor_id|    pickup_datetime|payment_type|fare_amount|surcharge|mta_tax|tip_amount|tolls_amount|total_amount|\n",
      "+--------------------+--------------------+---------+-------------------+------------+-----------+---------+-------+----------+------------+------------+\n",
      "|ABC075C8871353E9F...|F13B6FECD12C974E7...|      VTS|2013-04-09 18:11:00|         CRD|       11.5|        1|    0.5|      3.12|           0|       16.12|\n",
      "|6F05C2D331B2178F3...|38A4C7A8805AF6713...|      VTS|2013-04-09 18:16:00|         CSH|        5.5|        1|    0.5|         0|           0|           7|\n",
      "|A2B2E4DC64E3B3B9F...|902DEAA1A28E6022C...|      VTS|2013-04-09 18:08:00|         CRD|       15.5|        1|    0.5|         2|           0|          19|\n",
      "|D5DB49A3CBC353FB7...|65324A9B1F91221CA...|      VTS|2013-04-09 18:17:00|         CSH|          5|        1|    0.5|         0|           0|         6.5|\n",
      "|AB5964E59B2458472...|00374328FBA75FBFC...|      VTS|2013-04-09 18:06:00|         CSH|         13|        1|    0.5|         0|           0|        14.5|\n",
      "|D6892CBB7611985DC...|7227B8FAD01C94B5F...|      VTS|2013-04-09 18:23:00|         CRD|          3|        1|    0.5|       0.8|           0|         5.3|\n",
      "|7166914A326D84915...|FE44D0EA86E9882E9...|      VTS|2013-04-09 18:16:00|         CRD|        7.5|        1|    0.5|         1|           0|          10|\n",
      "|D016579A75E4CE553...|01060D63D29CE42C8...|      VTS|2013-04-09 18:20:00|         CRD|        5.5|        1|    0.5|       1.3|           0|         8.3|\n",
      "|8F0D4A95E121B52CA...|56237D1B787603219...|      VTS|2013-04-09 18:14:00|         CRD|         10|        1|    0.5|       2.2|           0|        13.7|\n",
      "|5D506A80496D56D8E...|3F3C8F830606CFDA5...|      VTS|2013-04-09 18:16:00|         CSH|        6.5|        1|    0.5|         0|           0|           8|\n",
      "+--------------------+--------------------+---------+-------------------+------------+-----------+---------+-------+----------+------------+------------+\n",
      "only showing top 10 rows\n",
      "\n"
     ]
    }
   ],
   "source": [
    "dfFare.show(10) #looking at the first 10 rows to make sure the data is there"
   ]
  },
  {
   "cell_type": "code",
   "execution_count": 7,
   "metadata": {},
   "outputs": [],
   "source": [
    "#creating the merged dataframe usings df.join()\n",
    "dfMerged = dfTrip.join(\n",
    "            dfFare, \n",
    "            [\"medallion\",\"hack_license\",\"vendor_id\",\"pickup_datetime\"],\n",
    "            \"left_outer\"\n",
    "        )"
   ]
  },
  {
   "cell_type": "code",
   "execution_count": 8,
   "metadata": {},
   "outputs": [
    {
     "name": "stdout",
     "output_type": "stream",
     "text": [
      "+--------------------+--------------------+---------+-------------------+---------+------------------+-------------------+---------------+-----------------+-------------+----------------+---------------+-----------------+----------------+------------+-----------+---------+-------+----------+------------+------------+\n",
      "|           medallion|        hack_license|vendor_id|    pickup_datetime|rate_code|store_and_fwd_flag|   dropoff_datetime|passenger_count|trip_time_in_secs|trip_distance|pickup_longitude|pickup_latitude|dropoff_longitude|dropoff_latitude|payment_type|fare_amount|surcharge|mta_tax|tip_amount|tolls_amount|total_amount|\n",
      "+--------------------+--------------------+---------+-------------------+---------+------------------+-------------------+---------------+-----------------+-------------+----------------+---------------+-----------------+----------------+------------+-----------+---------+-------+----------+------------+------------+\n",
      "|00005007A9F30E289...|02015F5B7D1884620...|      CMT|2013-05-20 02:15:05|        1|                 N|2013-05-20 02:28:51|              2|              827|         5.30|        -74.0084|      40.740517|       -73.965195|       40.801292|         CRD|       17.5|      0.5|    0.5|       3.7|           0|        22.2|\n",
      "|00005007A9F30E289...|0649DA10C83DE7C6A...|      CMT|2013-05-14 20:28:38|        1|                 N|2013-05-14 20:37:35|              1|              536|         1.70|      -73.979301|       40.73579|        -74.00354|       40.740307|         CRD|        8.5|      0.5|    0.5|       1.9|           0|        11.4|\n",
      "|00005007A9F30E289...|0FD461760B482C0B2...|      CMT|2013-11-18 01:41:18|        1|                 N|2013-11-18 01:53:22|              1|              723|         3.20|      -73.987175|      40.722256|       -73.949669|       40.715641|         CSH|         12|      0.5|    0.5|         0|           0|          13|\n",
      "|00005007A9F30E289...|132A7AC13C8471488...|      CMT|2013-07-30 19:17:33|        1|                 N|2013-07-30 19:25:54|              1|              501|         1.10|      -73.980736|      40.753197|       -73.971275|       40.764122|         CRD|          7|        1|    0.5|       1.5|           0|          10|\n",
      "|00005007A9F30E289...|18F924B3A1BC019F9...|      CMT|2013-07-10 01:09:09|        1|                 Y|2013-07-10 01:13:50|              2|              281|          .80|      -74.006104|      40.734661|        -74.00618|       40.743752|         CRD|          5|      0.5|    0.5|         1|           0|           7|\n",
      "|00005007A9F30E289...|1C533BFDA3D6D892F...|      CMT|2013-05-07 15:23:15|        1|                 N|2013-05-07 15:37:46|              1|              870|         1.50|      -73.986496|       40.73341|       -73.984604|       40.750008|         CRD|       10.5|        0|    0.5|      2.75|           0|       13.75|\n",
      "|00005007A9F30E289...|24C122A944FB8EE21...|      CMT|2013-10-05 11:40:40|        1|                 N|2013-10-05 11:57:20|              3|             1000|         3.70|      -73.966492|      40.789413|       -74.003059|       40.745758|         CRD|         15|        0|    0.5|      3.87|           0|       19.37|\n",
      "|00005007A9F30E289...|24C122A944FB8EE21...|      CMT|2013-10-11 11:18:25|        1|                 Y|2013-10-11 11:23:11|              1|              285|          .90|      -73.997002|       40.72245|       -73.986115|       40.729259|         CRD|        5.5|        0|    0.5|         1|           0|           7|\n",
      "|00005007A9F30E289...|24C122A944FB8EE21...|      CMT|2013-10-14 14:41:18|        1|                 N|2013-10-14 15:02:17|              1|             1259|         1.50|      -73.960266|      40.781761|       -73.967461|       40.763233|         CSH|         13|        0|    0.5|         0|           0|        13.5|\n",
      "|00005007A9F30E289...|24C122A944FB8EE21...|      CMT|2013-10-18 12:06:37|        1|                 N|2013-10-18 12:13:09|              2|              392|         1.10|      -73.962921|      40.772476|       -73.954216|       40.786285|         CRD|        6.5|        0|    0.5|         1|           0|           8|\n",
      "+--------------------+--------------------+---------+-------------------+---------+------------------+-------------------+---------------+-----------------+-------------+----------------+---------------+-----------------+----------------+------------+-----------+---------+-------+----------+------------+------------+\n",
      "only showing top 10 rows\n",
      "\n"
     ]
    }
   ],
   "source": [
    "dfMerged.show(10) #looking at the first 10 rows to make sure the data is there"
   ]
  },
  {
   "cell_type": "code",
   "execution_count": 19,
   "metadata": {},
   "outputs": [
    {
     "name": "stdout",
     "output_type": "stream",
     "text": [
      "root\n",
      " |-- medallion: string (nullable = true)\n",
      " |-- hack_license: string (nullable = true)\n",
      " |-- vendor_id: string (nullable = true)\n",
      " |-- pickup_datetime: timestamp (nullable = true)\n",
      " |-- rate_code: integer (nullable = true)\n",
      " |-- store_and_fwd_flag: string (nullable = true)\n",
      " |-- dropoff_datetime: timestamp (nullable = true)\n",
      " |-- passenger_count: integer (nullable = true)\n",
      " |-- trip_time_in_secs: float (nullable = true)\n",
      " |-- trip_distance: float (nullable = true)\n",
      " |-- pickup_longitude: float (nullable = true)\n",
      " |-- pickup_latitude: float (nullable = true)\n",
      " |-- dropoff_longitude: float (nullable = true)\n",
      " |-- dropoff_latitude: float (nullable = true)\n",
      " |-- payment_type: string (nullable = true)\n",
      " |-- fare_amount: float (nullable = true)\n",
      " |-- surcharge: float (nullable = true)\n",
      " |-- mta_tax: float (nullable = true)\n",
      " |-- tip_amount: float (nullable = true)\n",
      " |-- tolls_amount: float (nullable = true)\n",
      " |-- total_amount: float (nullable = true)\n",
      "\n"
     ]
    }
   ],
   "source": [
    "dfMerged.printSchema() #looking at the schema to see if all are string initially"
   ]
  },
  {
   "cell_type": "code",
   "execution_count": 18,
   "metadata": {},
   "outputs": [],
   "source": [
    "#converting variables to appropriate data types - 2 to int, 2 to timestamp, and rest numeric to float\n",
    "from pyspark.sql.types import IntegerType\n",
    "from pyspark.sql.types import FloatType\n",
    "from pyspark.sql.types import TimestampType\n",
    "dfMerged = dfMerged.withColumn(\"rate_code\", dfMerged[\"rate_code\"].cast(IntegerType()))\n",
    "dfMerged = dfMerged.withColumn(\"passenger_count\", dfMerged[\"passenger_count\"].cast(IntegerType()))\n",
    "dfMerged = dfMerged.withColumn(\"pickup_datetime\", dfMerged[\"pickup_datetime\"].cast(TimestampType()))\n",
    "dfMerged = dfMerged.withColumn(\"dropoff_datetime\", dfMerged[\"dropoff_datetime\"].cast(TimestampType()))\n",
    "dfMerged = dfMerged.withColumn(\"trip_time_in_secs\", dfMerged[\"trip_time_in_secs\"].cast(FloatType()))\n",
    "dfMerged = dfMerged.withColumn(\"trip_distance\", dfMerged[\"trip_distance\"].cast(FloatType()))\n",
    "dfMerged = dfMerged.withColumn(\"pickup_longitude\", dfMerged[\"pickup_longitude\"].cast(FloatType()))\n",
    "dfMerged = dfMerged.withColumn(\"pickup_latitude\", dfMerged[\"pickup_latitude\"].cast(FloatType()))\n",
    "dfMerged = dfMerged.withColumn(\"dropoff_longitude\", dfMerged[\"dropoff_longitude\"].cast(FloatType()))\n",
    "dfMerged = dfMerged.withColumn(\"dropoff_latitude\", dfMerged[\"dropoff_latitude\"].cast(FloatType()))\n",
    "dfMerged = dfMerged.withColumn(\"fare_amount\", dfMerged[\"fare_amount\"].cast(FloatType()))\n",
    "dfMerged = dfMerged.withColumn(\"surcharge\", dfMerged[\"surcharge\"].cast(FloatType()))\n",
    "dfMerged = dfMerged.withColumn(\"mta_tax\", dfMerged[\"mta_tax\"].cast(FloatType()))\n",
    "dfMerged = dfMerged.withColumn(\"tip_amount\", dfMerged[\"tip_amount\"].cast(FloatType()))\n",
    "dfMerged = dfMerged.withColumn(\"tolls_amount\", dfMerged[\"tolls_amount\"].cast(FloatType()))\n",
    "dfMerged = dfMerged.withColumn(\"total_amount\", dfMerged[\"total_amount\"].cast(FloatType()))\n"
   ]
  },
  {
   "cell_type": "code",
   "execution_count": 20,
   "metadata": {},
   "outputs": [
    {
     "name": "stdout",
     "output_type": "stream",
     "text": [
      "root\n",
      " |-- medallion: string (nullable = true)\n",
      " |-- hack_license: string (nullable = true)\n",
      " |-- vendor_id: string (nullable = true)\n",
      " |-- pickup_datetime: timestamp (nullable = true)\n",
      " |-- rate_code: integer (nullable = true)\n",
      " |-- store_and_fwd_flag: string (nullable = true)\n",
      " |-- dropoff_datetime: timestamp (nullable = true)\n",
      " |-- passenger_count: integer (nullable = true)\n",
      " |-- trip_time_in_secs: float (nullable = true)\n",
      " |-- trip_distance: float (nullable = true)\n",
      " |-- pickup_longitude: float (nullable = true)\n",
      " |-- pickup_latitude: float (nullable = true)\n",
      " |-- dropoff_longitude: float (nullable = true)\n",
      " |-- dropoff_latitude: float (nullable = true)\n",
      " |-- payment_type: string (nullable = true)\n",
      " |-- fare_amount: float (nullable = true)\n",
      " |-- surcharge: float (nullable = true)\n",
      " |-- mta_tax: float (nullable = true)\n",
      " |-- tip_amount: float (nullable = true)\n",
      " |-- tolls_amount: float (nullable = true)\n",
      " |-- total_amount: float (nullable = true)\n",
      "\n"
     ]
    }
   ],
   "source": [
    "dfMerged.printSchema() #looking at the schema to ensure the change has been made"
   ]
  },
  {
   "cell_type": "markdown",
   "metadata": {},
   "source": [
    "## In the following cells, please provide the requested code and output. Do not change the order and/or structure of the cells."
   ]
  },
  {
   "cell_type": "markdown",
   "metadata": {},
   "source": [
    "In the next cell, provide the code that saves your merged dataset to your S3 bucket."
   ]
  },
  {
   "cell_type": "code",
   "execution_count": 26,
   "metadata": {},
   "outputs": [],
   "source": [
    "dfMerged.write.parquet(\"s3://big-data-bucket-mine/dfMerged.parquet\",mode=\"overwrite\")"
   ]
  },
  {
   "cell_type": "markdown",
   "metadata": {},
   "source": [
    "In the next cell, print the schema of your merged dataset."
   ]
  },
  {
   "cell_type": "code",
   "execution_count": 23,
   "metadata": {},
   "outputs": [
    {
     "name": "stdout",
     "output_type": "stream",
     "text": [
      "root\n",
      " |-- medallion: string (nullable = true)\n",
      " |-- hack_license: string (nullable = true)\n",
      " |-- vendor_id: string (nullable = true)\n",
      " |-- pickup_datetime: timestamp (nullable = true)\n",
      " |-- rate_code: integer (nullable = true)\n",
      " |-- store_and_fwd_flag: string (nullable = true)\n",
      " |-- dropoff_datetime: timestamp (nullable = true)\n",
      " |-- passenger_count: integer (nullable = true)\n",
      " |-- trip_time_in_secs: float (nullable = true)\n",
      " |-- trip_distance: float (nullable = true)\n",
      " |-- pickup_longitude: float (nullable = true)\n",
      " |-- pickup_latitude: float (nullable = true)\n",
      " |-- dropoff_longitude: float (nullable = true)\n",
      " |-- dropoff_latitude: float (nullable = true)\n",
      " |-- payment_type: string (nullable = true)\n",
      " |-- fare_amount: float (nullable = true)\n",
      " |-- surcharge: float (nullable = true)\n",
      " |-- mta_tax: float (nullable = true)\n",
      " |-- tip_amount: float (nullable = true)\n",
      " |-- tolls_amount: float (nullable = true)\n",
      " |-- total_amount: float (nullable = true)\n",
      "\n"
     ]
    }
   ],
   "source": [
    "dfMerged.printSchema()"
   ]
  },
  {
   "cell_type": "markdown",
   "metadata": {},
   "source": [
    "In the next cell, print the first 10 records of your merged dataset."
   ]
  },
  {
   "cell_type": "code",
   "execution_count": 24,
   "metadata": {},
   "outputs": [
    {
     "name": "stdout",
     "output_type": "stream",
     "text": [
      "+--------------------+--------------------+---------+-------------------+---------+------------------+-------------------+---------------+-----------------+-------------+----------------+---------------+-----------------+----------------+------------+-----------+---------+-------+----------+------------+------------+\n",
      "|           medallion|        hack_license|vendor_id|    pickup_datetime|rate_code|store_and_fwd_flag|   dropoff_datetime|passenger_count|trip_time_in_secs|trip_distance|pickup_longitude|pickup_latitude|dropoff_longitude|dropoff_latitude|payment_type|fare_amount|surcharge|mta_tax|tip_amount|tolls_amount|total_amount|\n",
      "+--------------------+--------------------+---------+-------------------+---------+------------------+-------------------+---------------+-----------------+-------------+----------------+---------------+-----------------+----------------+------------+-----------+---------+-------+----------+------------+------------+\n",
      "|00005007A9F30E289...|02015F5B7D1884620...|      CMT|2013-05-20 02:15:05|        1|                 N|2013-05-20 02:28:51|              2|            827.0|          5.3|        -74.0084|      40.740517|       -73.965195|       40.801292|         CRD|       17.5|      0.5|    0.5|       3.7|         0.0|        22.2|\n",
      "|00005007A9F30E289...|0649DA10C83DE7C6A...|      CMT|2013-05-14 20:28:38|        1|                 N|2013-05-14 20:37:35|              1|            536.0|          1.7|        -73.9793|       40.73579|        -74.00354|       40.740307|         CRD|        8.5|      0.5|    0.5|       1.9|         0.0|        11.4|\n",
      "|00005007A9F30E289...|0FD461760B482C0B2...|      CMT|2013-11-18 01:41:18|        1|                 N|2013-11-18 01:53:22|              1|            723.0|          3.2|      -73.987175|      40.722256|        -73.94967|        40.71564|         CSH|       12.0|      0.5|    0.5|       0.0|         0.0|        13.0|\n",
      "|00005007A9F30E289...|132A7AC13C8471488...|      CMT|2013-07-30 19:17:33|        1|                 N|2013-07-30 19:25:54|              1|            501.0|          1.1|      -73.980736|      40.753197|       -73.971275|       40.764122|         CRD|        7.0|      1.0|    0.5|       1.5|         0.0|        10.0|\n",
      "|00005007A9F30E289...|18F924B3A1BC019F9...|      CMT|2013-07-10 01:09:09|        1|                 Y|2013-07-10 01:13:50|              2|            281.0|          0.8|        -74.0061|       40.73466|        -74.00618|        40.74375|         CRD|        5.0|      0.5|    0.5|       1.0|         0.0|         7.0|\n",
      "|00005007A9F30E289...|1C533BFDA3D6D892F...|      CMT|2013-05-07 15:23:15|        1|                 N|2013-05-07 15:37:46|              1|            870.0|          1.5|      -73.986496|       40.73341|       -73.984604|       40.750008|         CRD|       10.5|      0.0|    0.5|      2.75|         0.0|       13.75|\n",
      "|00005007A9F30E289...|24C122A944FB8EE21...|      CMT|2013-10-05 11:40:40|        1|                 N|2013-10-05 11:57:20|              3|           1000.0|          3.7|       -73.96649|      40.789413|        -74.00306|       40.745758|         CRD|       15.0|      0.0|    0.5|      3.87|         0.0|       19.37|\n",
      "|00005007A9F30E289...|24C122A944FB8EE21...|      CMT|2013-10-11 11:18:25|        1|                 Y|2013-10-11 11:23:11|              1|            285.0|          0.9|         -73.997|       40.72245|       -73.986115|        40.72926|         CRD|        5.5|      0.0|    0.5|       1.0|         0.0|         7.0|\n",
      "|00005007A9F30E289...|24C122A944FB8EE21...|      CMT|2013-10-14 14:41:18|        1|                 N|2013-10-14 15:02:17|              1|           1259.0|          1.5|      -73.960266|       40.78176|        -73.96746|       40.763233|         CSH|       13.0|      0.0|    0.5|       0.0|         0.0|        13.5|\n",
      "|00005007A9F30E289...|24C122A944FB8EE21...|      CMT|2013-10-18 12:06:37|        1|                 N|2013-10-18 12:13:09|              2|            392.0|          1.1|       -73.96292|      40.772476|       -73.954216|       40.786285|         CRD|        6.5|      0.0|    0.5|       1.0|         0.0|         8.0|\n",
      "+--------------------+--------------------+---------+-------------------+---------+------------------+-------------------+---------------+-----------------+-------------+----------------+---------------+-----------------+----------------+------------+-----------+---------+-------+----------+------------+------------+\n",
      "only showing top 10 rows\n",
      "\n"
     ]
    }
   ],
   "source": [
    "dfMerged.show(10)"
   ]
  },
  {
   "cell_type": "markdown",
   "metadata": {},
   "source": [
    "In the next cell, print the row count of your merged dataset."
   ]
  },
  {
   "cell_type": "code",
   "execution_count": 25,
   "metadata": {},
   "outputs": [
    {
     "data": {
      "text/plain": [
       "173185091"
      ]
     },
     "execution_count": 25,
     "metadata": {},
     "output_type": "execute_result"
    }
   ],
   "source": [
    "dfMerged.count()"
   ]
  },
  {
   "cell_type": "code",
   "execution_count": 27,
   "metadata": {},
   "outputs": [],
   "source": [
    "spark.stop()"
   ]
  }
 ],
 "metadata": {
  "anaconda-cloud": {},
  "celltoolbar": "Raw Cell Format",
  "kernelspec": {
   "display_name": "Python 3",
   "language": "python",
   "name": "python3"
  },
  "language_info": {
   "codemirror_mode": {
    "name": "ipython",
    "version": 3
   },
   "file_extension": ".py",
   "mimetype": "text/x-python",
   "name": "python",
   "nbconvert_exporter": "python",
   "pygments_lexer": "ipython3",
   "version": "3.6.8"
  }
 },
 "nbformat": 4,
 "nbformat_minor": 2
}
